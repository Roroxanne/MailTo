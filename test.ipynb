{
 "cells": [
  {
   "cell_type": "code",
   "execution_count": 23,
   "metadata": {},
   "outputs": [],
   "source": [
    "import requests\n",
    "import urllib.request #permettent de faire des requetes\n",
    "from bs4 import BeautifulSoup #rendre pages accessibles\n"
   ]
  },
  {
   "cell_type": "code",
   "execution_count": 33,
   "metadata": {},
   "outputs": [],
   "source": [
    "url = \"https://mail.google.com/mail/u/0/?hl=fr#sent\"\n",
    "css_selector = \".zA yO\" #id de la ligne du tableau avec l'adresse mail"
   ]
  },
  {
   "cell_type": "code",
   "execution_count": 25,
   "metadata": {},
   "outputs": [],
   "source": [
    "from selenium import webdriver\n",
    "from time import sleep"
   ]
  },
  {
   "cell_type": "code",
   "execution_count": 26,
   "metadata": {},
   "outputs": [],
   "source": [
    "wd_path = \"PROJET ER/chromedriver\" #chromedriver: pouvoir interagir avec la page google"
   ]
  },
  {
   "cell_type": "code",
   "execution_count": 36,
   "metadata": {},
   "outputs": [
    {
     "name": "stderr",
     "output_type": "stream",
     "text": [
      "C:\\Users\\roxan\\AppData\\Local\\Temp\\ipykernel_6516\\186068420.py:1: DeprecationWarning: executable_path has been deprecated, please pass in a Service object\n",
      "  wdriver = webdriver.Chrome(executable_path = wd_path)\n"
     ]
    },
    {
     "ename": "NoSuchWindowException",
     "evalue": "Message: no such window: target window already closed\nfrom unknown error: web view not found\n  (Session info: chrome=112.0.5615.138)\nStacktrace:\nBacktrace:\n\tGetHandleVerifier [0x0121DCE3+50899]\n\t(No symbol) [0x011AE111]\n\t(No symbol) [0x010B5588]\n\t(No symbol) [0x0109D333]\n\t(No symbol) [0x010FF4DB]\n\t(No symbol) [0x0110DB33]\n\t(No symbol) [0x010FB6F6]\n\t(No symbol) [0x010D7708]\n\t(No symbol) [0x010D886D]\n\tGetHandleVerifier [0x01483EAE+2566302]\n\tGetHandleVerifier [0x014B92B1+2784417]\n\tGetHandleVerifier [0x014B327C+2759788]\n\tGetHandleVerifier [0x012B5740+672048]\n\t(No symbol) [0x011B8872]\n\t(No symbol) [0x011B41C8]\n\t(No symbol) [0x011B42AB]\n\t(No symbol) [0x011A71B7]\n\tBaseThreadInitThunk [0x770D0099+25]\n\tRtlGetAppContainerNamedObjectPath [0x776F7B6E+286]\n\tRtlGetAppContainerNamedObjectPath [0x776F7B3E+238]\n",
     "output_type": "error",
     "traceback": [
      "\u001b[1;31m---------------------------------------------------------------------------\u001b[0m",
      "\u001b[1;31mNoSuchWindowException\u001b[0m                     Traceback (most recent call last)",
      "\u001b[1;32mc:\\Users\\roxan\\OneDrive\\Bureau\\PROJET ER\\test.ipynb Cellule 5\u001b[0m in \u001b[0;36m4\n\u001b[0;32m      <a href='vscode-notebook-cell:/c%3A/Users/roxan/OneDrive/Bureau/PROJET%20ER/test.ipynb#X22sZmlsZQ%3D%3D?line=1'>2</a>\u001b[0m wdriver\u001b[39m.\u001b[39mget(url)\n\u001b[0;32m      <a href='vscode-notebook-cell:/c%3A/Users/roxan/OneDrive/Bureau/PROJET%20ER/test.ipynb#X22sZmlsZQ%3D%3D?line=2'>3</a>\u001b[0m sleep(\u001b[39m4\u001b[39m)\n\u001b[1;32m----> <a href='vscode-notebook-cell:/c%3A/Users/roxan/OneDrive/Bureau/PROJET%20ER/test.ipynb#X22sZmlsZQ%3D%3D?line=3'>4</a>\u001b[0m element \u001b[39m=\u001b[39m wdriver\u001b[39m.\u001b[39;49mfind_element(css_selector)\n",
      "File \u001b[1;32m~\\AppData\\Local\\Packages\\PythonSoftwareFoundation.Python.3.10_qbz5n2kfra8p0\\LocalCache\\local-packages\\Python310\\site-packages\\selenium\\webdriver\\remote\\webdriver.py:831\u001b[0m, in \u001b[0;36mWebDriver.find_element\u001b[1;34m(self, by, value)\u001b[0m\n\u001b[0;32m    828\u001b[0m     by \u001b[39m=\u001b[39m By\u001b[39m.\u001b[39mCSS_SELECTOR\n\u001b[0;32m    829\u001b[0m     value \u001b[39m=\u001b[39m \u001b[39mf\u001b[39m\u001b[39m'\u001b[39m\u001b[39m[name=\u001b[39m\u001b[39m\"\u001b[39m\u001b[39m{\u001b[39;00mvalue\u001b[39m}\u001b[39;00m\u001b[39m\"\u001b[39m\u001b[39m]\u001b[39m\u001b[39m'\u001b[39m\n\u001b[1;32m--> 831\u001b[0m \u001b[39mreturn\u001b[39;00m \u001b[39mself\u001b[39;49m\u001b[39m.\u001b[39;49mexecute(Command\u001b[39m.\u001b[39;49mFIND_ELEMENT, {\u001b[39m\"\u001b[39;49m\u001b[39musing\u001b[39;49m\u001b[39m\"\u001b[39;49m: by, \u001b[39m\"\u001b[39;49m\u001b[39mvalue\u001b[39;49m\u001b[39m\"\u001b[39;49m: value})[\u001b[39m\"\u001b[39m\u001b[39mvalue\u001b[39m\u001b[39m\"\u001b[39m]\n",
      "File \u001b[1;32m~\\AppData\\Local\\Packages\\PythonSoftwareFoundation.Python.3.10_qbz5n2kfra8p0\\LocalCache\\local-packages\\Python310\\site-packages\\selenium\\webdriver\\remote\\webdriver.py:440\u001b[0m, in \u001b[0;36mWebDriver.execute\u001b[1;34m(self, driver_command, params)\u001b[0m\n\u001b[0;32m    438\u001b[0m response \u001b[39m=\u001b[39m \u001b[39mself\u001b[39m\u001b[39m.\u001b[39mcommand_executor\u001b[39m.\u001b[39mexecute(driver_command, params)\n\u001b[0;32m    439\u001b[0m \u001b[39mif\u001b[39;00m response:\n\u001b[1;32m--> 440\u001b[0m     \u001b[39mself\u001b[39;49m\u001b[39m.\u001b[39;49merror_handler\u001b[39m.\u001b[39;49mcheck_response(response)\n\u001b[0;32m    441\u001b[0m     response[\u001b[39m\"\u001b[39m\u001b[39mvalue\u001b[39m\u001b[39m\"\u001b[39m] \u001b[39m=\u001b[39m \u001b[39mself\u001b[39m\u001b[39m.\u001b[39m_unwrap_value(response\u001b[39m.\u001b[39mget(\u001b[39m\"\u001b[39m\u001b[39mvalue\u001b[39m\u001b[39m\"\u001b[39m, \u001b[39mNone\u001b[39;00m))\n\u001b[0;32m    442\u001b[0m     \u001b[39mreturn\u001b[39;00m response\n",
      "File \u001b[1;32m~\\AppData\\Local\\Packages\\PythonSoftwareFoundation.Python.3.10_qbz5n2kfra8p0\\LocalCache\\local-packages\\Python310\\site-packages\\selenium\\webdriver\\remote\\errorhandler.py:245\u001b[0m, in \u001b[0;36mErrorHandler.check_response\u001b[1;34m(self, response)\u001b[0m\n\u001b[0;32m    243\u001b[0m         alert_text \u001b[39m=\u001b[39m value[\u001b[39m\"\u001b[39m\u001b[39malert\u001b[39m\u001b[39m\"\u001b[39m]\u001b[39m.\u001b[39mget(\u001b[39m\"\u001b[39m\u001b[39mtext\u001b[39m\u001b[39m\"\u001b[39m)\n\u001b[0;32m    244\u001b[0m     \u001b[39mraise\u001b[39;00m exception_class(message, screen, stacktrace, alert_text)  \u001b[39m# type: ignore[call-arg]  # mypy is not smart enough here\u001b[39;00m\n\u001b[1;32m--> 245\u001b[0m \u001b[39mraise\u001b[39;00m exception_class(message, screen, stacktrace)\n",
      "\u001b[1;31mNoSuchWindowException\u001b[0m: Message: no such window: target window already closed\nfrom unknown error: web view not found\n  (Session info: chrome=112.0.5615.138)\nStacktrace:\nBacktrace:\n\tGetHandleVerifier [0x0121DCE3+50899]\n\t(No symbol) [0x011AE111]\n\t(No symbol) [0x010B5588]\n\t(No symbol) [0x0109D333]\n\t(No symbol) [0x010FF4DB]\n\t(No symbol) [0x0110DB33]\n\t(No symbol) [0x010FB6F6]\n\t(No symbol) [0x010D7708]\n\t(No symbol) [0x010D886D]\n\tGetHandleVerifier [0x01483EAE+2566302]\n\tGetHandleVerifier [0x014B92B1+2784417]\n\tGetHandleVerifier [0x014B327C+2759788]\n\tGetHandleVerifier [0x012B5740+672048]\n\t(No symbol) [0x011B8872]\n\t(No symbol) [0x011B41C8]\n\t(No symbol) [0x011B42AB]\n\t(No symbol) [0x011A71B7]\n\tBaseThreadInitThunk [0x770D0099+25]\n\tRtlGetAppContainerNamedObjectPath [0x776F7B6E+286]\n\tRtlGetAppContainerNamedObjectPath [0x776F7B3E+238]\n"
     ]
    }
   ],
   "source": [
    "wdriver = webdriver.Chrome(executable_path = wd_path)\n",
    "wdriver.get(url)\n",
    "sleep(4)\n"
   ]
  },
  {
   "cell_type": "code",
   "execution_count": null,
   "metadata": {},
   "outputs": [],
   "source": []
  }
 ],
 "metadata": {
  "kernelspec": {
   "display_name": "Python 3",
   "language": "python",
   "name": "python3"
  },
  "language_info": {
   "codemirror_mode": {
    "name": "ipython",
    "version": 3
   },
   "file_extension": ".py",
   "mimetype": "text/x-python",
   "name": "python",
   "nbconvert_exporter": "python",
   "pygments_lexer": "ipython3",
   "version": "3.10.11"
  },
  "orig_nbformat": 4
 },
 "nbformat": 4,
 "nbformat_minor": 2
}
